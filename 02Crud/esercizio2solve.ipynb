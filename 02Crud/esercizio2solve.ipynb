{
 "cells": [
  {
   "cell_type": "markdown",
   "metadata": {},
   "source": [
    "### Esercizio 1: Creazione di un Progetto FastAPI di Base\n",
    "\n",
    "Obiettivo: Creare un file main.py con un'API di esempio che utilizza Pydantic per la validazione.\n",
    "\n",
    "Crea una nuova cartella per il tuo progetto e all'interno di essa, crea un file chiamato main.py.\n",
    "\n",
    "come Item:\n",
    "- name\n",
    "- description\n",
    "- price\n",
    "- tax"
   ]
  },
  {
   "cell_type": "markdown",
   "metadata": {},
   "source": [
    "### Esercizio 2: Creazione di un metodo post per aggiungere item"
   ]
  },
  {
   "cell_type": "markdown",
   "metadata": {},
   "source": [
    "response_model: Questo parametro specifica il modello di dati (Pydantic model) che sarà utilizzato per validare e serializzare la risposta. In questo caso, il modello è Item."
   ]
  },
  {
   "cell_type": "code",
   "execution_count": null,
   "metadata": {},
   "outputs": [],
   "source": [
    "from typing import Dict\n",
    "from fastapi import HTTPException\n",
    "\n",
    "items: Dict[str, Item] = {}\n",
    "\n",
    "@app.post(\"/items/\", response_model=Item)\n",
    "async def create_item(item: Item):\n",
    "    if item.name in items:\n",
    "        raise HTTPException(status_code=400, detail=\"Item already exists\")\n",
    "    items[item.name] = item\n",
    "    return item"
   ]
  },
  {
   "cell_type": "markdown",
   "metadata": {},
   "source": [
    "### Esercizio 3.1: Leggere tutti gli item"
   ]
  },
  {
   "cell_type": "code",
   "execution_count": null,
   "metadata": {},
   "outputs": [],
   "source": []
  },
  {
   "cell_type": "markdown",
   "metadata": {},
   "source": [
    "### Esercizio 3.2: Leggere un item"
   ]
  },
  {
   "cell_type": "code",
   "execution_count": null,
   "metadata": {},
   "outputs": [],
   "source": []
  },
  {
   "cell_type": "markdown",
   "metadata": {},
   "source": [
    "### Esercizio 4: modificare un item by item_name"
   ]
  },
  {
   "cell_type": "code",
   "execution_count": null,
   "metadata": {},
   "outputs": [],
   "source": []
  },
  {
   "cell_type": "markdown",
   "metadata": {},
   "source": [
    "### Esercizio 5: cancellare un item by item_name"
   ]
  },
  {
   "cell_type": "code",
   "execution_count": null,
   "metadata": {},
   "outputs": [],
   "source": []
  },
  {
   "cell_type": "code",
   "execution_count": null,
   "metadata": {},
   "outputs": [],
   "source": []
  }
 ],
 "metadata": {
  "kernelspec": {
   "display_name": "Python 3",
   "language": "python",
   "name": "python3"
  },
  "language_info": {
   "codemirror_mode": {
    "name": "ipython",
    "version": 3
   },
   "file_extension": ".py",
   "mimetype": "text/x-python",
   "name": "python",
   "nbconvert_exporter": "python",
   "pygments_lexer": "ipython3",
   "version": "3.11.8"
  }
 },
 "nbformat": 4,
 "nbformat_minor": 2
}
