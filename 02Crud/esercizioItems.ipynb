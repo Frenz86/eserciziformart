{
 "cells": [
  {
   "cell_type": "markdown",
   "metadata": {},
   "source": [
    "## Creare un server API di CRUD operation per gli Items"
   ]
  },
  {
   "cell_type": "markdown",
   "metadata": {},
   "source": [
    "### Esercizio 1: Creazione di un Progetto FastAPI di Base\n",
    "\n",
    "Obiettivo: Creare un file main.py con un'API di esempio che utilizza Pydantic per la validazione.\n",
    "\n",
    "Crea una nuova cartella per il tuo progetto e all'interno di essa, crea un file chiamato main.py.\n",
    "\n",
    "come Item:\n",
    "- name\n",
    "- description\n",
    "- price\n",
    "- tax"
   ]
  },
  {
   "cell_type": "markdown",
   "metadata": {},
   "source": [
    "![immagine](crud.jpg)"
   ]
  },
  {
   "cell_type": "code",
   "execution_count": null,
   "metadata": {},
   "outputs": [],
   "source": [
    "# inserirlo nel main.py\n",
    "from fastapi import FastAPI\n",
    "from pydantic import BaseModel\n",
    "import uvicorn\n",
    "\n",
    "app = FastAPI()\n",
    "\n",
    "class Item(BaseModel):\n",
    "    name: str\n",
    "    description: str = None\n",
    "    price: float\n",
    "    tax: float = None\n",
    "\n",
    "@app.get(\"/\")\n",
    "async def home():\n",
    "    return {'localhost:8000/docs'}\n",
    "\n",
    "###################################################################\n",
    "\n",
    "\n",
    "\n",
    "###################################################################\n",
    "if __name__ == \"__main__\":\n",
    "    uvicorn.run(\"main:app\", host=\"127.0.0.1\", port=8000,reload=True)"
   ]
  },
  {
   "cell_type": "markdown",
   "metadata": {},
   "source": [
    "### Esercizio 2: Creazione di un metodo post per aggiungere item"
   ]
  },
  {
   "cell_type": "markdown",
   "metadata": {},
   "source": [
    "response_model: Questo parametro specifica il modello di dati (Pydantic model) che sarà utilizzato per validare e serializzare la risposta. In questo caso, il modello è Item."
   ]
  },
  {
   "cell_type": "code",
   "execution_count": null,
   "metadata": {},
   "outputs": [],
   "source": [
    "from typing import Dict\n",
    "from fastapi import HTTPException\n",
    "\n",
    "items: Dict[str, Item] = {}\n",
    "\n",
    "@app.post(\"/items/\", response_model=Item)\n",
    "async def create_item(item: Item):\n",
    "    if item.name in items:\n",
    "        raise HTTPException(status_code=400, detail=\"Item already exists\")\n",
    "    items[item.name] = item\n",
    "    return item"
   ]
  },
  {
   "cell_type": "markdown",
   "metadata": {},
   "source": [
    "### Esercizio 3: Leggere tutti gli item"
   ]
  },
  {
   "cell_type": "code",
   "execution_count": null,
   "metadata": {},
   "outputs": [],
   "source": [
    "@app.get(\"/items/all\", response_model=Dict[str, Item])\n",
    "async def read_all_items():\n",
    "    return items"
   ]
  },
  {
   "cell_type": "code",
   "execution_count": null,
   "metadata": {},
   "outputs": [],
   "source": [
    "\n",
    "@app.get(\"/items/{item_name}\", response_model=Item)\n",
    "async def read_item(item_name: str):\n",
    "    if item_name not in items:\n",
    "        raise HTTPException(status_code=404, detail=\"Item not found\")\n",
    "    return items[item_name]"
   ]
  },
  {
   "cell_type": "markdown",
   "metadata": {},
   "source": [
    "### Esercizio 4: modificare un item by item_name"
   ]
  },
  {
   "cell_type": "code",
   "execution_count": null,
   "metadata": {},
   "outputs": [],
   "source": [
    "@app.put(\"/items/{item_name}\", response_model=Item)\n",
    "async def update_item(item_name: str, item: Item):\n",
    "    if item_name not in items:\n",
    "        raise HTTPException(status_code=404, detail=\"Item not found\")\n",
    "    items[item_name] = item\n",
    "    return item"
   ]
  },
  {
   "cell_type": "markdown",
   "metadata": {},
   "source": [
    "### Esercizio 5: cancellare un item by item_name"
   ]
  },
  {
   "cell_type": "code",
   "execution_count": null,
   "metadata": {},
   "outputs": [],
   "source": [
    "@app.delete(\"/items/{item_name}\", response_model=Item)\n",
    "async def delete_item(item_name: str):\n",
    "    if item_name not in items:\n",
    "        raise HTTPException(status_code=404, detail=\"Item not found\")\n",
    "    return items.pop(item_name)"
   ]
  },
  {
   "cell_type": "code",
   "execution_count": null,
   "metadata": {},
   "outputs": [],
   "source": [
    "### totale\n",
    "from fastapi import FastAPI\n",
    "from pydantic import BaseModel\n",
    "import uvicorn\n",
    "\n",
    "app = FastAPI()\n",
    "\n",
    "class Item(BaseModel):\n",
    "    name: str\n",
    "    description: str = None\n",
    "    price: float\n",
    "    tax: float = None\n",
    "\n",
    "@app.get(\"/\")\n",
    "async def home():\n",
    "    return {'localhost:8000/docs'}\n",
    "\n",
    "###################################################################\n",
    "from typing import Dict\n",
    "from fastapi import HTTPException\n",
    "\n",
    "items: Dict[str, Item] = {}\n",
    "\n",
    "@app.post(\"/items/\", response_model=Item)\n",
    "async def create_item(item: Item):\n",
    "    if item.name in items:\n",
    "        raise HTTPException(status_code=400, detail=\"Item already exists\")\n",
    "    items[item.name] = item\n",
    "    return item\n",
    "\n",
    "@app.get(\"/items/all\", response_model=Dict[str, Item])\n",
    "async def read_all_items():\n",
    "    return items\n",
    "\n",
    "@app.get(\"/items/{item_name}\", response_model=Item)\n",
    "async def read_item(item_name: str):\n",
    "    if item_name not in items:\n",
    "        raise HTTPException(status_code=404, detail=\"Item not found\")\n",
    "    return items[item_name]\n",
    "\n",
    "@app.put(\"/items/{item_name}\", response_model=Item)\n",
    "async def update_item(item_name: str, item: Item):\n",
    "    if item_name not in items:\n",
    "        raise HTTPException(status_code=404, detail=\"Item not found\")\n",
    "    items[item_name] = item\n",
    "    return item\n",
    "\n",
    "@app.delete(\"/items/{item_name}\", response_model=Item)\n",
    "async def delete_item(item_name: str):\n",
    "    if item_name not in items:\n",
    "        raise HTTPException(status_code=404, detail=\"Item not found\")\n",
    "    return items.pop(item_name)\n",
    "\n",
    "\n",
    "###################################################################\n",
    "if __name__ == \"__main__\":\n",
    "    uvicorn.run(\"main:app\", host=\"127.0.0.1\", port=8000,reload=True)"
   ]
  },
  {
   "cell_type": "code",
   "execution_count": null,
   "metadata": {},
   "outputs": [],
   "source": []
  }
 ],
 "metadata": {
  "kernelspec": {
   "display_name": "Python 3",
   "language": "python",
   "name": "python3"
  },
  "language_info": {
   "codemirror_mode": {
    "name": "ipython",
    "version": 3
   },
   "file_extension": ".py",
   "mimetype": "text/x-python",
   "name": "python",
   "nbconvert_exporter": "python",
   "pygments_lexer": "ipython3",
   "version": "3.11.8"
  }
 },
 "nbformat": 4,
 "nbformat_minor": 2
}
